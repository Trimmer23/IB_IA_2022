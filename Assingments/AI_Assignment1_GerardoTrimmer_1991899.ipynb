{
  "nbformat": 4,
  "nbformat_minor": 0,
  "metadata": {
    "colab": {
      "provenance": [],
      "collapsed_sections": [],
      "authorship_tag": "ABX9TyNI2vIFBbWhQDba2L6n8CmA",
      "include_colab_link": true
    },
    "kernelspec": {
      "name": "python3",
      "display_name": "Python 3"
    },
    "language_info": {
      "name": "python"
    }
  },
  "cells": [
    {
      "cell_type": "markdown",
      "metadata": {
        "id": "view-in-github",
        "colab_type": "text"
      },
      "source": [
        "<a href=\"https://colab.research.google.com/github/Trimmer23/IB_IA_2022/blob/main/Assingments/AI_Assignment1_GerardoTrimmer_1991899.ipynb\" target=\"_parent\"><img src=\"https://colab.research.google.com/assets/colab-badge.svg\" alt=\"Open In Colab\"/></a>"
      ]
    },
    {
      "cell_type": "markdown",
      "source": [
        "# > **A2: Python Exercises**\n",
        "\n",
        "# **Gerardo Asael Trimmer López 1991899**\n",
        "\n",
        "# **Artificial Intelligence N4**"
      ],
      "metadata": {
        "id": "h2ceFrtj9eRV"
      }
    },
    {
      "cell_type": "markdown",
      "source": [
        "#Python script 1"
      ],
      "metadata": {
        "id": "ngfd9ApZiDEt"
      }
    },
    {
      "cell_type": "code",
      "source": [
        "message = input(\"Welcome to the Acitivity #2! What is your name? \")\n",
        "Fnames = [\"Ana\",\"Jhon\",\"Peter\"]\n",
        "if message in Fnames:\n",
        "  print (\"Ok\")\n",
        "else:\n",
        "  print(\"It’s a pleasure to meet you, \" + message + \"!\")"
      ],
      "metadata": {
        "colab": {
          "base_uri": "https://localhost:8080/"
        },
        "id": "Yw7dMHFb9d58",
        "outputId": "d635a700-c709-4574-80ba-e07c7a09f998"
      },
      "execution_count": 161,
      "outputs": [
        {
          "output_type": "stream",
          "name": "stdout",
          "text": [
            "Welcome to the Acitivity #2! What is your name? Gerardo\n",
            "It’s a pleasure to meet you, Gerardo!\n"
          ]
        }
      ]
    },
    {
      "cell_type": "code",
      "source": [
        "message = input(\"Welcome to the Acitivity #2! What is your name? \")\n",
        "Fnames = [\"Ana\",\"Jhon\",\"Peter\"]\n",
        "if message in Fnames:\n",
        "  print (\"Ok\")\n",
        "else:\n",
        "  print(\"It’s a pleasure to meet you, \" + message + \"!\")"
      ],
      "metadata": {
        "colab": {
          "base_uri": "https://localhost:8080/"
        },
        "id": "iEDU9ZLqdQ33",
        "outputId": "51a13212-420a-45ae-d2c9-0e9f4161071c"
      },
      "execution_count": 160,
      "outputs": [
        {
          "output_type": "stream",
          "name": "stdout",
          "text": [
            "Welcome to the Acitivity #2! What is your name? Ana\n",
            "Ok\n"
          ]
        }
      ]
    },
    {
      "cell_type": "markdown",
      "source": [
        "#Function 1"
      ],
      "metadata": {
        "id": "1vmFTI_xiLHb"
      }
    },
    {
      "cell_type": "code",
      "source": [
        "listx = [0,1,2,3,4,5,6,7,8,9]\n",
        "def Functionx(lx,x,y,z):\n",
        "  if(z > 0):\n",
        "    print(\"The last element of the list is: \", end =\"\")\n",
        "    print(lx[len(lx)-1])\n",
        "  if x<y:\n",
        "    aux = lx[x]\n",
        "    lx[x] = lx[y]\n",
        "    lx[y] = aux\n",
        "    Functionx(lx, x+1, y-1,z-1)\n",
        "\n",
        "\n",
        "Functionx(listx,listx[0],listx[len(listx)-1],1)\n",
        "print(\"The inverted list: \", end = \"\")\n",
        "print(listx)\n"
      ],
      "metadata": {
        "colab": {
          "base_uri": "https://localhost:8080/"
        },
        "id": "jVyCmUvmVuUN",
        "outputId": "a8366370-0264-4746-fb31-fc05750ecf1e"
      },
      "execution_count": 151,
      "outputs": [
        {
          "output_type": "stream",
          "name": "stdout",
          "text": [
            "The last element of the list is: 9\n",
            "The inverted list: [9, 8, 7, 6, 5, 4, 3, 2, 1, 0]\n"
          ]
        }
      ]
    },
    {
      "cell_type": "markdown",
      "source": [
        "#Function 2"
      ],
      "metadata": {
        "id": "w2NMZWI2iOn9"
      }
    },
    {
      "cell_type": "code",
      "source": [
        "List = [\"I\", \"love\", \"AI\", \"class,\", \"it\", \"is\",\"amazing\"]\n",
        "def Function2(l):\n",
        "    print(\"************\")\n",
        "    for x in List:\n",
        "      y = 9 - len(x) \n",
        "      print(\"* \" + x,end=\"\")\n",
        "      while y > 0:\n",
        "        print(\" \",end=\"\")\n",
        "        y -= 1\n",
        "      print(\"*\")\n",
        "    print(\"************\")\n",
        "\n",
        "Function2(List)"
      ],
      "metadata": {
        "colab": {
          "base_uri": "https://localhost:8080/"
        },
        "id": "NODLQfYbGttL",
        "outputId": "07b51028-77c8-40db-a384-d39025dbcf9c"
      },
      "execution_count": 156,
      "outputs": [
        {
          "output_type": "stream",
          "name": "stdout",
          "text": [
            "************\n",
            "* I        *\n",
            "* love     *\n",
            "* AI       *\n",
            "* class,   *\n",
            "* it       *\n",
            "* is       *\n",
            "* amazing  *\n",
            "************\n"
          ]
        }
      ]
    }
  ]
}